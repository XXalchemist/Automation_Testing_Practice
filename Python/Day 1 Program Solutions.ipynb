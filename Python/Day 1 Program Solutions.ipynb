{
 "cells": [
  {
   "cell_type": "markdown",
   "id": "homeless-forth",
   "metadata": {},
   "source": [
    "#  DETAILS\n",
    "\n",
    "Name : Narayan Krishna | \n",
    "EmpId: 3155150 | \n",
    "Topic: Day 1 Python Programs"
   ]
  },
  {
   "cell_type": "markdown",
   "id": "balanced-corporation",
   "metadata": {},
   "source": [
    "### Program 1 : Find Student total marks and percentage up to 2 decimal places.\n",
    "\n",
    "Write a program to get input from user about number of marks in English, Maths, Physics and Chemistryand print total marks and percentage up to 2 decimal points in below format.\n",
    "For e.g. if user gives below inputs\n",
    "English = 90\n",
    "Maths = 80\n",
    "Physics = 70\n",
    "Chemistry = 60\n",
    "Output will be:\n",
    "“Totals marks are 300.”\n",
    "Marks Percentage = 75.00%\n"
   ]
  },
  {
   "cell_type": "code",
   "execution_count": 1,
   "id": "spare-iceland",
   "metadata": {},
   "outputs": [
    {
     "name": "stdout",
     "output_type": "stream",
     "text": [
      "Enter the marks of subject English : 90\n",
      "Enter the marks of subject Physics : 100\n",
      "Enter the marks of subject Chemistry : 80\n",
      "Enter the marks of subject Maths : 95\n",
      "Total Marks : 400 and Obtained Marks : 365.\n",
      "Marks Percentage : 91.25%\n"
     ]
    }
   ],
   "source": [
    "# to find total marks and percentage\n",
    "def toFindObtainedMarksAndPercentage():\n",
    "    '''\n",
    "    To get the obtained marks and percentage for the user...if total marks is 400\n",
    "    '''\n",
    "    # totalMarks\n",
    "    totalMarks = 400\n",
    "\n",
    "    # getting marks from user\n",
    "    englishMarks = toReturnMarks(\"English\")\n",
    "    physicsMarks = toReturnMarks(\"Physics\")\n",
    "    chemistryMarks = toReturnMarks(\"Chemistry\")\n",
    "    mathsMarks = toReturnMarks(\"Maths\")\n",
    "\n",
    "    # getting up obtained marks\n",
    "    obtainedMarks = englishMarks + physicsMarks + chemistryMarks + mathsMarks\n",
    "\n",
    "    # getting up the percentage upto 2 decimal places\n",
    "    percentage = (obtainedMarks / totalMarks) * 100;\n",
    "\n",
    "    # displaying the result\n",
    "    print(f\"Total Marks : {totalMarks} and Obtained Marks : {obtainedMarks}.\")\n",
    "    print(f\"Marks Percentage : {round(percentage, 2)}%\")\n",
    "\n",
    "\n",
    "# function to return marks for any subject\n",
    "def toReturnMarks(subjectName):\n",
    "    '''\n",
    "    Take input marks and also returns output marks for any subject.\n",
    "    '''\n",
    "    subjectMarks = int(input(f\"Enter the marks of subject {subjectName} : \"))\n",
    "    return subjectMarks\n",
    "\n",
    "\n",
    "# calling the main function\n",
    "def main():\n",
    "    toFindObtainedMarksAndPercentage()\n",
    "\n",
    "\n",
    "# driver\n",
    "if __name__ == \"__main__\":\n",
    "    main()"
   ]
  },
  {
   "cell_type": "markdown",
   "id": "turned-islam",
   "metadata": {},
   "source": [
    "-----------------------------------------------------"
   ]
  },
  {
   "cell_type": "markdown",
   "id": "outer-difficulty",
   "metadata": {},
   "source": [
    "### Program 2 : Write a program to find n+nn+nnn from input n. n will be integer always.\n",
    "\n",
    "For e.g. if input is 6\n",
    "Then output should be 6 + 66 + 666 = 738 and display like this.\n",
    "“Required result is 738.”\n"
   ]
  },
  {
   "cell_type": "code",
   "execution_count": 1,
   "id": "compliant-prior",
   "metadata": {},
   "outputs": [
    {
     "name": "stdout",
     "output_type": "stream",
     "text": [
      "Enter the value of n : abc\n"
     ]
    },
    {
     "ename": "ValueError",
     "evalue": "invalid literal for int() with base 10: 'abc'",
     "output_type": "error",
     "traceback": [
      "\u001b[1;31m---------------------------------------------------------------------------\u001b[0m",
      "\u001b[1;31mValueError\u001b[0m                                Traceback (most recent call last)",
      "\u001b[1;32m<ipython-input-1-7ad2f94e65d6>\u001b[0m in \u001b[0;36m<module>\u001b[1;34m\u001b[0m\n\u001b[0;32m     18\u001b[0m \u001b[1;32mif\u001b[0m \u001b[0m__name__\u001b[0m \u001b[1;33m==\u001b[0m \u001b[1;34m\"__main__\"\u001b[0m\u001b[1;33m:\u001b[0m\u001b[1;33m\u001b[0m\u001b[1;33m\u001b[0m\u001b[0m\n\u001b[0;32m     19\u001b[0m \u001b[1;33m\u001b[0m\u001b[0m\n\u001b[1;32m---> 20\u001b[1;33m     \u001b[0mmain\u001b[0m\u001b[1;33m(\u001b[0m\u001b[1;33m)\u001b[0m\u001b[1;33m\u001b[0m\u001b[1;33m\u001b[0m\u001b[0m\n\u001b[0m\u001b[0;32m     21\u001b[0m \u001b[1;33m\u001b[0m\u001b[0m\n",
      "\u001b[1;32m<ipython-input-1-7ad2f94e65d6>\u001b[0m in \u001b[0;36mmain\u001b[1;34m()\u001b[0m\n\u001b[0;32m     12\u001b[0m \u001b[1;32mdef\u001b[0m \u001b[0mmain\u001b[0m\u001b[1;33m(\u001b[0m\u001b[1;33m)\u001b[0m\u001b[1;33m:\u001b[0m\u001b[1;33m\u001b[0m\u001b[1;33m\u001b[0m\u001b[0m\n\u001b[0;32m     13\u001b[0m \u001b[1;33m\u001b[0m\u001b[0m\n\u001b[1;32m---> 14\u001b[1;33m     \u001b[0mtoFindSeriesSum\u001b[0m\u001b[1;33m(\u001b[0m\u001b[1;33m)\u001b[0m\u001b[1;33m\u001b[0m\u001b[1;33m\u001b[0m\u001b[0m\n\u001b[0m\u001b[0;32m     15\u001b[0m \u001b[1;33m\u001b[0m\u001b[0m\n\u001b[0;32m     16\u001b[0m \u001b[1;33m\u001b[0m\u001b[0m\n",
      "\u001b[1;32m<ipython-input-1-7ad2f94e65d6>\u001b[0m in \u001b[0;36mtoFindSeriesSum\u001b[1;34m()\u001b[0m\n\u001b[0;32m      6\u001b[0m     \u001b[0mnumberInput\u001b[0m \u001b[1;33m=\u001b[0m \u001b[0minput\u001b[0m\u001b[1;33m(\u001b[0m\u001b[1;34m\"Enter the value of n : \"\u001b[0m\u001b[1;33m)\u001b[0m\u001b[1;33m\u001b[0m\u001b[1;33m\u001b[0m\u001b[0m\n\u001b[0;32m      7\u001b[0m \u001b[1;33m\u001b[0m\u001b[0m\n\u001b[1;32m----> 8\u001b[1;33m     \u001b[0mrequiredResult\u001b[0m \u001b[1;33m=\u001b[0m \u001b[0mint\u001b[0m\u001b[1;33m(\u001b[0m\u001b[0mnumberInput\u001b[0m\u001b[1;33m*\u001b[0m\u001b[1;36m1\u001b[0m\u001b[1;33m)\u001b[0m \u001b[1;33m+\u001b[0m \u001b[0mint\u001b[0m\u001b[1;33m(\u001b[0m\u001b[0mnumberInput\u001b[0m\u001b[1;33m*\u001b[0m\u001b[1;36m2\u001b[0m\u001b[1;33m)\u001b[0m \u001b[1;33m+\u001b[0m \u001b[0mint\u001b[0m\u001b[1;33m(\u001b[0m\u001b[0mnumberInput\u001b[0m\u001b[1;33m*\u001b[0m\u001b[1;36m3\u001b[0m\u001b[1;33m)\u001b[0m\u001b[1;33m\u001b[0m\u001b[1;33m\u001b[0m\u001b[0m\n\u001b[0m\u001b[0;32m      9\u001b[0m \u001b[1;33m\u001b[0m\u001b[0m\n\u001b[0;32m     10\u001b[0m     \u001b[0mprint\u001b[0m\u001b[1;33m(\u001b[0m\u001b[1;34mf\"Required result is {requiredResult}\"\u001b[0m\u001b[1;33m)\u001b[0m\u001b[1;33m\u001b[0m\u001b[1;33m\u001b[0m\u001b[0m\n",
      "\u001b[1;31mValueError\u001b[0m: invalid literal for int() with base 10: 'abc'"
     ]
    }
   ],
   "source": [
    "# function to find n+nn+nnn from input n.\n",
    "def toFindSeriesSum():\n",
    "    '''\n",
    "    if input is 6 then it will find 6 + 66 + 666 i.e result = 738\n",
    "    '''\n",
    "    numberInput = input(\"Enter the value of n : \")\n",
    "    \n",
    "    requiredResult = int(numberInput*1) + int(numberInput*2) + int(numberInput*3)\n",
    "    \n",
    "    print(f\"Required result is {requiredResult}\")\n",
    "\n",
    "def main():\n",
    "    \n",
    "    toFindSeriesSum()\n",
    "\n",
    "\n",
    "# driver\n",
    "if __name__ == \"__main__\":\n",
    "    \n",
    "    main()\n",
    "    "
   ]
  },
  {
   "cell_type": "code",
   "execution_count": null,
   "id": "sudden-stock",
   "metadata": {},
   "outputs": [],
   "source": []
  },
  {
   "cell_type": "markdown",
   "id": "severe-cocktail",
   "metadata": {},
   "source": [
    "--------------------------"
   ]
  },
  {
   "cell_type": "markdown",
   "id": "involved-controversy",
   "metadata": {},
   "source": [
    "### Program 3 : Write a program to swap values of 2 variables. (variables can be int, float or string).\n",
    "\n",
    "e.g. if inputs are 5 and 7.5 then output should be.\n",
    "“Before swapping: First variable is 5 and Second variable is 7.5.”\n",
    "“After swapping: First variable is 7.5 and Second variable is 5.”\n"
   ]
  },
  {
   "cell_type": "code",
   "execution_count": 5,
   "id": "auburn-testing",
   "metadata": {},
   "outputs": [
    {
     "name": "stdout",
     "output_type": "stream",
     "text": [
      "Enter the value of first variable : 5\n",
      "Enter the value of secondVariable : 7.96\n",
      "Before Swapping --- \n",
      "First Variable is 5 and Second Variable is 7.96.\n",
      "After Swapping --- \n",
      "First Variable is 7.96 and Second Variable is 5.\n"
     ]
    }
   ],
   "source": [
    "# to swap two values\n",
    "def toSwapTwoVars():\n",
    "    \n",
    "    # taking two vars as input\n",
    "    firstVar = input(\"Enter the value of first variable : \")\n",
    "    secondVar = input(\"Enter the value of secondVariable : \")\n",
    "        \n",
    "    # showing value of vars before swapping\n",
    "    print(f\"Before Swapping --- \\nFirst Variable is {firstVar} and Second Variable is {secondVar}.\")\n",
    "    \n",
    "    # swapping logic\n",
    "    firstVar, secondVar = secondVar, firstVar\n",
    "    \n",
    "    # showing the value of vars after swapping\n",
    "    print(f\"After Swapping --- \\nFirst Variable is {firstVar} and Second Variable is {secondVar}.\")\n",
    "    \n",
    "def main():\n",
    "    \n",
    "    toSwapTwoVars()\n",
    "\n",
    "\n",
    "# driver\n",
    "if __name__ == \"__main__\":\n",
    "    \n",
    "    main()\n",
    "    "
   ]
  },
  {
   "cell_type": "markdown",
   "id": "resistant-hobby",
   "metadata": {},
   "source": [
    "-----------------------------------------------------------"
   ]
  },
  {
   "cell_type": "markdown",
   "id": "saved-battle",
   "metadata": {},
   "source": [
    "### Program 4 : Given a string of odd length greater than 7, return a string made of the middle three chars of a given String.\n",
    "\n",
    "For e.g. if input is goIndiago then display below output\n",
    "“Original value is goIndiago.”\n",
    "“Middle 3 characters are ndi.”\n"
   ]
  },
  {
   "cell_type": "code",
   "execution_count": 10,
   "id": "closing-islam",
   "metadata": {},
   "outputs": [
    {
     "name": "stdout",
     "output_type": "stream",
     "text": [
      "Enter the string : checkIFItwork\n",
      "Original value is checkIFItwork. Middle 3 characters are IFI\n"
     ]
    }
   ],
   "source": [
    "# function to findMiddleThreeChars\n",
    "def toFindMiddleThreeChars():\n",
    "    \n",
    "    # taking input as string\n",
    "    inputString = input(\"Enter the string : \")\n",
    "    \n",
    "    # string is always odd check\n",
    "    if(len(inputString)%2 == 0 or len(inputString) < 7):\n",
    "        \n",
    "        print(\"Not valid input\")\n",
    "        return False\n",
    "    \n",
    "    # performing operation on the string for odd string\n",
    "    else:\n",
    "        \n",
    "        # find middle starting point\n",
    "        middleStartingPoint = len(inputString)//2 - 1\n",
    "        middleEndingPoint = middleStartingPoint+3\n",
    "        result = inputString[middleStartingPoint : middleEndingPoint]\n",
    "        \n",
    "        print(f\"Original value is {inputString}. Middle 3 characters are {result}\")\n",
    "        return  True\n",
    "\n",
    "def main():\n",
    "    \n",
    "    toFindMiddleThreeChars()\n",
    "\n",
    "# driver\n",
    "if __name__ == \"__main__\":\n",
    "    \n",
    "    main()\n",
    "   "
   ]
  },
  {
   "cell_type": "markdown",
   "id": "oriented-tuning",
   "metadata": {},
   "source": [
    "---------------------------------------------------------------"
   ]
  },
  {
   "cell_type": "markdown",
   "id": "defined-basket",
   "metadata": {},
   "source": [
    "### Program 5 : Given 2 strings, s1 and s2, create a new string by appending s2 in the middle of s1. s1 will be always having length in even number i.e. 2,4,6,8 etc.\n",
    "\n",
    "For e.g. input will be like\n",
    "S1= “batman”\n",
    "S2= “isnot”\n",
    "Then output should be like this.\n",
    "“Result is batisnotman”\n"
   ]
  },
  {
   "cell_type": "code",
   "execution_count": 12,
   "id": "incorporated-indicator",
   "metadata": {},
   "outputs": [
    {
     "name": "stdout",
     "output_type": "stream",
     "text": [
      "Enter the first string : batman\n",
      "Enter the second string : isnot\n",
      "Result is batisnotman\n"
     ]
    }
   ],
   "source": [
    "# function to append string in middle and show result\n",
    "def toAppendStringInMiddle():\n",
    "    \n",
    "    firstString = input(\"Enter the first string : \")\n",
    "    lengthOfFirstString = len(firstString)\n",
    "    \n",
    "    # checking firstString have even length or not\n",
    "    if(len(firstString)%2 != 0):\n",
    "        \n",
    "        return False\n",
    "    \n",
    "    else:\n",
    "        \n",
    "        secondString = input(\"Enter the second string : \")\n",
    "        lengthOfSecondString = len(secondString)\n",
    "        middleLengthOfFirstString = lengthOfFirstString//2\n",
    "        \n",
    "        resultString = f\"Result is {firstString[0 : middleLengthOfFirstString]}{secondString}{firstString[middleLengthOfFirstString:]}\"\n",
    "        print(resultString)\n",
    "        \n",
    "        return True\n",
    "    \n",
    "\n",
    "def main():\n",
    "    \n",
    "    toAppendStringInMiddle()\n",
    "    \n",
    "\n",
    "# driver\n",
    "if __name__ == \"__main__\":\n",
    "    \n",
    "    main()\n",
    "    \n",
    "        \n",
    "    "
   ]
  },
  {
   "cell_type": "markdown",
   "id": "still-whale",
   "metadata": {},
   "source": [
    "--------------------------------------------"
   ]
  },
  {
   "cell_type": "markdown",
   "id": "organized-orleans",
   "metadata": {},
   "source": [
    "### Program 6 : Write a Python program to display the monthly calendar.\n",
    "\n",
    "User will provide month and year and in output user should get calendar like shown below.\n",
    "Hint: You can use calendar module \n"
   ]
  },
  {
   "cell_type": "code",
   "execution_count": 13,
   "id": "spread-brazil",
   "metadata": {},
   "outputs": [
    {
     "name": "stdout",
     "output_type": "stream",
     "text": [
      "Enter the year : 2021\n",
      "Enter the month : 1\n",
      "Calendar for the year 2021 and month 1\n",
      "\n",
      "    January 2021\n",
      "Mo Tu We Th Fr Sa Su\n",
      "             1  2  3\n",
      " 4  5  6  7  8  9 10\n",
      "11 12 13 14 15 16 17\n",
      "18 19 20 21 22 23 24\n",
      "25 26 27 28 29 30 31\n",
      "\n"
     ]
    }
   ],
   "source": [
    "# for calendar , we have to import module called calendar\n",
    "import calendar\n",
    "\n",
    "def showCalendar():\n",
    "    \n",
    "    year = int(input(\"Enter the year : \"))\n",
    "    month = int(input(\"Enter the month : \"))\n",
    "    \n",
    "    if(month > 12 or month < 1):\n",
    "        \n",
    "        print(\"Not valid month\")\n",
    "        return False\n",
    "    \n",
    "    else :\n",
    "        \n",
    "        print(f\"Calendar for the year {year} and month {month}\\n\")\n",
    "        print(calendar.month(year, month))\n",
    "        \n",
    "        return True\n",
    "    \n",
    "def main():\n",
    "    \n",
    "    showCalendar()\n",
    "    \n",
    "# driver\n",
    "if __name__ == \"__main__\":\n",
    "    \n",
    "    main()"
   ]
  },
  {
   "cell_type": "markdown",
   "id": "different-taste",
   "metadata": {},
   "source": [
    "--------------------------------------------"
   ]
  },
  {
   "cell_type": "code",
   "execution_count": null,
   "id": "aging-workstation",
   "metadata": {},
   "outputs": [],
   "source": []
  },
  {
   "cell_type": "code",
   "execution_count": null,
   "id": "criminal-tutorial",
   "metadata": {},
   "outputs": [],
   "source": []
  },
  {
   "cell_type": "code",
   "execution_count": null,
   "id": "dutch-norman",
   "metadata": {},
   "outputs": [],
   "source": []
  },
  {
   "cell_type": "code",
   "execution_count": null,
   "id": "accepted-township",
   "metadata": {},
   "outputs": [],
   "source": []
  },
  {
   "cell_type": "code",
   "execution_count": null,
   "id": "nearby-consent",
   "metadata": {},
   "outputs": [],
   "source": []
  },
  {
   "cell_type": "code",
   "execution_count": null,
   "id": "numeric-sellers",
   "metadata": {},
   "outputs": [],
   "source": []
  },
  {
   "cell_type": "code",
   "execution_count": null,
   "id": "educated-syria",
   "metadata": {},
   "outputs": [],
   "source": []
  },
  {
   "cell_type": "code",
   "execution_count": null,
   "id": "liable-cheat",
   "metadata": {},
   "outputs": [],
   "source": []
  },
  {
   "cell_type": "code",
   "execution_count": null,
   "id": "motivated-algorithm",
   "metadata": {},
   "outputs": [],
   "source": []
  },
  {
   "cell_type": "code",
   "execution_count": null,
   "id": "digital-milan",
   "metadata": {},
   "outputs": [],
   "source": []
  },
  {
   "cell_type": "code",
   "execution_count": null,
   "id": "anticipated-airfare",
   "metadata": {},
   "outputs": [],
   "source": []
  },
  {
   "cell_type": "code",
   "execution_count": null,
   "id": "correct-sentence",
   "metadata": {},
   "outputs": [],
   "source": []
  },
  {
   "cell_type": "code",
   "execution_count": null,
   "id": "recent-designation",
   "metadata": {},
   "outputs": [],
   "source": []
  },
  {
   "cell_type": "code",
   "execution_count": null,
   "id": "partial-treatment",
   "metadata": {},
   "outputs": [],
   "source": []
  }
 ],
 "metadata": {
  "kernelspec": {
   "display_name": "Python 3",
   "language": "python",
   "name": "python3"
  },
  "language_info": {
   "codemirror_mode": {
    "name": "ipython",
    "version": 3
   },
   "file_extension": ".py",
   "mimetype": "text/x-python",
   "name": "python",
   "nbconvert_exporter": "python",
   "pygments_lexer": "ipython3",
   "version": "3.9.1"
  }
 },
 "nbformat": 4,
 "nbformat_minor": 5
}
