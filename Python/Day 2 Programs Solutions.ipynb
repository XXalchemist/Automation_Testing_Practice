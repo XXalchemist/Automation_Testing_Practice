{
 "cells": [
  {
   "cell_type": "markdown",
   "id": "usual-university",
   "metadata": {},
   "source": [
    "# Details\n",
    "\n",
    "Name :  Narayan Krishna | EmpId : 3155150 | Topic : Day 2 Programs Solutions"
   ]
  },
  {
   "cell_type": "markdown",
   "id": "chubby-monkey",
   "metadata": {},
   "source": [
    "### Program  1 :  Create a program to get a name as input from user and store it in a list and keep asking until user enters a name which is already added in the list. At the end of program print below message and print list of names in the end. (Consider uppercase and lowercase as same values i.e. John will be same as johN)\n",
    "“This is already added. Exiting program”\n",
    "“You entered below names: “\n"
   ]
  },
  {
   "cell_type": "code",
   "execution_count": 5,
   "id": "delayed-lancaster",
   "metadata": {},
   "outputs": [
    {
     "name": "stdout",
     "output_type": "stream",
     "text": [
      "Please, Enter the name : narayan\n",
      "Please, Enter the name : krishna\n",
      "Please, Enter the name : NarayaN\n",
      "This is already added. Exiting program\n",
      "You entered below names :- \n",
      "['narayan', 'krishna']\n"
     ]
    }
   ],
   "source": [
    "# function\n",
    "def toCheckSameName():\n",
    "    \n",
    "    listOfNames = []\n",
    "    \n",
    "    \n",
    "    # infinity loop\n",
    "    \n",
    "    while(True):\n",
    "        name = input(\"Please, Enter the name : \")\n",
    "    \n",
    "        # converting name to lower case so that it can be matched later on\n",
    "        name = name.lower()\n",
    "    \n",
    "        if(name in listOfNames):\n",
    "        \n",
    "            print(\"This is already added. Exiting program\")\n",
    "            print(\"You entered below names :- \")\n",
    "            \n",
    "            # displaying list of names\n",
    "            print(listOfNames)\n",
    "            return False\n",
    "    \n",
    "        else : \n",
    "            # to store another name until same name occurs\n",
    "             listOfNames.append(name)\n",
    "        \n",
    "\n",
    "# main function\n",
    "\n",
    "def main():\n",
    "    \n",
    "    toCheckSameName()\n",
    "    \n",
    "\n",
    "# driver\n",
    "\n",
    "if __name__ == \"__main__\":\n",
    "    \n",
    "    main()\n",
    "    \n",
    "    "
   ]
  },
  {
   "cell_type": "markdown",
   "id": "reasonable-arkansas",
   "metadata": {},
   "source": [
    "### Program 2 : Create a program to find second largest number present in a list.\n",
    "\n",
    "For e.g.\n",
    "L = [1,2,3,5,5,6,7,7,7]\n",
    "Result should be “Second largest number is 6 in this list.”\n"
   ]
  },
  {
   "cell_type": "code",
   "execution_count": 13,
   "id": "paperback-agent",
   "metadata": {},
   "outputs": [
    {
     "name": "stdout",
     "output_type": "stream",
     "text": [
      "Enter the total number of elements : 9\n",
      "Please, Enter the number : 1\n",
      "Please, Enter the number : 2\n",
      "Please, Enter the number : 5\n",
      "Please, Enter the number : 5\n",
      "Please, Enter the number : 3\n",
      "Please, Enter the number : 7\n",
      "Please, Enter the number : 6\n",
      "Please, Enter the number : 7\n",
      "Please, Enter the number : 7\n",
      "Second largest number is 6 in the given list.\n"
     ]
    }
   ],
   "source": [
    "# function\n",
    "def toFindSecondLargestNumber(listOfNumbers):\n",
    "    \n",
    "    # convert list into set for unique identity of each number\n",
    "    listOfNumbers = set(listOfNumbers)\n",
    "    \n",
    "    # set is unordered ... so we sort it and typecast it into list and print the second element from the last\n",
    "    listOfNumbers = list(sorted(listOfNumbers))\n",
    "    \n",
    "    # if only one number then it will be the second largest number\n",
    "    if(len(listOfNumbers)==1):\n",
    "        \n",
    "        print(f\"Second largest number is {listOfNumbers[-1]} in the given list.\")\n",
    "    \n",
    "    # else display the second largest number \n",
    "    else:\n",
    "        print(f\"Second largest number is {listOfNumbers[-2]} in the given list.\")\n",
    "    \n",
    "    return True\n",
    "\n",
    "# main function\n",
    "def main():\n",
    "    \n",
    "    # listOfNumbers \n",
    "    numbersList = []\n",
    "    \n",
    "    n = int(input(\"Enter the total number of elements : \"))\n",
    "    \n",
    "    for i in range(n):\n",
    "        \n",
    "        number = int(input(\"Please, Enter the number : \"))\n",
    "        \n",
    "        # storing the number in the list\n",
    "        numbersList.append(number)\n",
    "        \n",
    "    # function call\n",
    "    toFindSecondLargestNumber(numbersList)\n",
    "    \n",
    "# driver\n",
    "if __name__ == \"__main__\":\n",
    "    \n",
    "    main()\n",
    "    "
   ]
  },
  {
   "cell_type": "markdown",
   "id": "returning-certificate",
   "metadata": {},
   "source": [
    "### Program 3 : Write a program that accepts a comma separated sequence of words as input and prints the words after sorting them alphabetically.\n",
    "\n",
    "For e.g.\n",
    "If input is “world,India,Australia,Canada”\n",
    "Then output should be\n",
    "Australia\n",
    "Canada\n",
    "India\n",
    "world\n"
   ]
  },
  {
   "cell_type": "code",
   "execution_count": 14,
   "id": "literary-magnet",
   "metadata": {},
   "outputs": [
    {
     "name": "stdout",
     "output_type": "stream",
     "text": [
      "Enter the sentence : boy,Boy,App,apple,India\n",
      "Words after alphabetically sorted :- \n",
      "App\n",
      "Boy\n",
      "India\n",
      "apple\n",
      "boy\n"
     ]
    }
   ],
   "source": [
    "# function which takes list Of Input\n",
    "def sortAndDisplay(listOfWords):\n",
    "    \n",
    "    listOfWords = sorted(listOfWords)\n",
    "    \n",
    "    print(\"Words after alphabetically sorted :- \")\n",
    "    for word in listOfWords:\n",
    "        \n",
    "        print(word)\n",
    "    \n",
    "    return True\n",
    "\n",
    "# main function\n",
    "def main():\n",
    "    \n",
    "    listOfWords = []\n",
    "    \n",
    "    inputString = input(\"Enter the sentence : \")\n",
    "    \n",
    "    # converting it into list\n",
    "    listOfWords = inputString.split(\",\")\n",
    "    \n",
    "    # pasing it to the method\n",
    "    sortAndDisplay(listOfWords)\n",
    "    \n",
    "\n",
    "# driver\n",
    "if __name__ == \"__main__\":\n",
    "    \n",
    "    main()"
   ]
  },
  {
   "cell_type": "markdown",
   "id": "following-tracker",
   "metadata": {},
   "source": [
    "### Program 4 : Write a program that accepts a sentence and calculate the number of letters and digits.\n",
    "\n",
    "For e.g. if input is “Will India grow in 2021?”\n",
    "Then output should be\n",
    "“Letters in this statement are 15.”\n",
    "“Digits in this statement are 4.”\n",
    "Hint: Try to use dictionary concept\n"
   ]
  },
  {
   "cell_type": "code",
   "execution_count": 20,
   "id": "possible-resistance",
   "metadata": {},
   "outputs": [
    {
     "name": "stdout",
     "output_type": "stream",
     "text": [
      "Enter the sentence : Will India grow in 2021?\n",
      "Letters in this statement are 15.\n",
      "Digits in this statement are 4.\n"
     ]
    }
   ],
   "source": [
    "# function\n",
    "def toCalculateNumberOfLettersAndDigits(inputString):\n",
    "    \n",
    "    counter = {\"countDigit\":0, \"countLetter\":0}\n",
    "    \n",
    "    for character in inputString:\n",
    "        \n",
    "        # for numbers\n",
    "        if(character.isdigit()):\n",
    "            \n",
    "            counter[\"countDigit\"] += 1\n",
    "            \n",
    "        # for digit\n",
    "        elif(character.isalpha()):\n",
    "            \n",
    "            counter[\"countLetter\"] += 1 \n",
    "        \n",
    "        # for specailCharacters\n",
    "        else:\n",
    "            \n",
    "            continue\n",
    "            \n",
    "    # displaying the result        \n",
    "    print(f\"Letters in this statement are {counter['countLetter']}.\\nDigits in this statement are {counter['countDigit']}.\")\n",
    "    \n",
    "    return True\n",
    "\n",
    "# main function\n",
    "def main():\n",
    "    \n",
    "    # Taking the input\n",
    "    inputString = input(\"Enter the sentence : \")\n",
    "\n",
    "    # calling the method\n",
    "    toCalculateNumberOfLettersAndDigits(inputString)\n",
    "    \n",
    "\n",
    "# driver\n",
    "if __name__ == \"__main__\":\n",
    "    \n",
    "    main()"
   ]
  },
  {
   "cell_type": "markdown",
   "id": "owned-antique",
   "metadata": {},
   "source": [
    "### Program 5 : Write a program that computes the net amount of a bank account based a transaction log from console input.\n",
    "\n",
    "The transaction log format is shown as following: \n",
    "D 100\n",
    "W 200\n",
    "D is deposit and W is Withdrawal\n",
    "Suppose the following input is supplied to the program:\n",
    "D 300\n",
    "D 300\n",
    "W 100\n",
    "D 50\n",
    "Then, the output should be: “Your net account balance is: 550.”\n",
    "Note: At start of code account balance will be zero. Withdrawal should not happen if withdrawal amount is more that account balance.\n",
    "Hint: Use split method to separate input into different variables.\n"
   ]
  },
  {
   "cell_type": "code",
   "execution_count": 4,
   "id": "manufactured-brazilian",
   "metadata": {},
   "outputs": [
    {
     "name": "stdout",
     "output_type": "stream",
     "text": [
      "Enter the command : D 200\n",
      "200 added to your account.\n",
      "Account Balance : 200\n",
      "Press 'y' to continue and 'n' to exit ..... *option other then y also quits* \n",
      " ::>y\n",
      "Enter the command : d 100\n",
      "100 added to your account.\n",
      "Account Balance : 300\n",
      "Press 'y' to continue and 'n' to exit ..... *option other then y also quits* \n",
      " ::>y\n",
      "Enter the command : W 100\n",
      "100 withdrawn from your account.\n",
      "Account Balance : 200\n",
      "Press 'y' to continue and 'n' to exit ..... *option other then y also quits* \n",
      " ::>y\n",
      "Enter the command : w 1000\n",
      "Not enough money in the account\n",
      "Account Balance : 200\n",
      "Press 'y' to continue and 'n' to exit ..... *option other then y also quits* \n",
      " ::>n\n"
     ]
    }
   ],
   "source": [
    "# function\n",
    "def bankTransactions():\n",
    "    \n",
    "    # main account balance\n",
    "    accountBalance = 0\n",
    "    \n",
    "    # flag to control the flow of code\n",
    "    flag = True\n",
    "    \n",
    "    while(flag):\n",
    "        \n",
    "        \n",
    "        # Splitting the input\n",
    "        listOfCommands = input(\"Enter the command : \").split(\" \")\n",
    "        \n",
    "        # storing in variable\n",
    "        try:\n",
    "            money = int(listOfCommands[1])\n",
    "            option = listOfCommands[0]\n",
    "            \n",
    "            # checking for withdrawl or deposit\n",
    "            if(option.lower() == 'd'):\n",
    "            \n",
    "                accountBalance += money\n",
    "                print(f\"{money} added to your account.\")\n",
    "        \n",
    "            elif(option.lower() == 'w'):\n",
    "            \n",
    "                if(accountBalance >= money):\n",
    "                \n",
    "                    accountBalance -= int(money)\n",
    "                    print(f\"{money} withdrawn from your account.\")\n",
    "            \n",
    "                else:\n",
    "                     \n",
    "                    print(\"Not enough money in the account\")\n",
    "        \n",
    "        except Exception as e:\n",
    "            \n",
    "            print(\"Invalid Input, try again\")\n",
    "            \n",
    "        # Menu Option\n",
    "        print(f\"Account Balance : {accountBalance}\")\n",
    "        condition = input(\"Press 'y' to continue and 'n' to exit ..... *option other then y also quits* \\n ::>\")\n",
    "        \n",
    "        if(condition.lower() != 'y'):\n",
    "            \n",
    "            flag = False\n",
    "        \n",
    "                \n",
    "            \n",
    "# main function\n",
    "def main():\n",
    "    \n",
    "    bankTransactions()\n",
    "    \n",
    "# driver\n",
    "if __name__ == \"__main__\":\n",
    "    \n",
    "    main()\n",
    "    "
   ]
  },
  {
   "cell_type": "code",
   "execution_count": null,
   "id": "broke-violence",
   "metadata": {},
   "outputs": [],
   "source": []
  },
  {
   "cell_type": "code",
   "execution_count": null,
   "id": "ranking-thompson",
   "metadata": {},
   "outputs": [],
   "source": []
  },
  {
   "cell_type": "code",
   "execution_count": null,
   "id": "weighted-workplace",
   "metadata": {},
   "outputs": [],
   "source": []
  },
  {
   "cell_type": "code",
   "execution_count": null,
   "id": "finite-disney",
   "metadata": {},
   "outputs": [],
   "source": []
  },
  {
   "cell_type": "code",
   "execution_count": null,
   "id": "future-sudan",
   "metadata": {},
   "outputs": [],
   "source": []
  },
  {
   "cell_type": "code",
   "execution_count": null,
   "id": "conventional-effort",
   "metadata": {},
   "outputs": [],
   "source": []
  },
  {
   "cell_type": "code",
   "execution_count": null,
   "id": "billion-exhibition",
   "metadata": {},
   "outputs": [],
   "source": []
  },
  {
   "cell_type": "code",
   "execution_count": null,
   "id": "moral-syndication",
   "metadata": {},
   "outputs": [],
   "source": []
  },
  {
   "cell_type": "code",
   "execution_count": null,
   "id": "tough-complement",
   "metadata": {},
   "outputs": [],
   "source": []
  },
  {
   "cell_type": "code",
   "execution_count": null,
   "id": "limited-original",
   "metadata": {},
   "outputs": [],
   "source": []
  },
  {
   "cell_type": "code",
   "execution_count": null,
   "id": "certified-connectivity",
   "metadata": {},
   "outputs": [],
   "source": []
  },
  {
   "cell_type": "code",
   "execution_count": null,
   "id": "interested-pipeline",
   "metadata": {},
   "outputs": [],
   "source": []
  },
  {
   "cell_type": "code",
   "execution_count": null,
   "id": "enclosed-drunk",
   "metadata": {},
   "outputs": [],
   "source": []
  },
  {
   "cell_type": "code",
   "execution_count": null,
   "id": "overall-central",
   "metadata": {},
   "outputs": [],
   "source": []
  },
  {
   "cell_type": "code",
   "execution_count": null,
   "id": "technical-arthritis",
   "metadata": {},
   "outputs": [],
   "source": []
  },
  {
   "cell_type": "code",
   "execution_count": null,
   "id": "matched-remainder",
   "metadata": {},
   "outputs": [],
   "source": []
  },
  {
   "cell_type": "code",
   "execution_count": null,
   "id": "restricted-wrestling",
   "metadata": {},
   "outputs": [],
   "source": []
  },
  {
   "cell_type": "code",
   "execution_count": null,
   "id": "theoretical-filename",
   "metadata": {},
   "outputs": [],
   "source": []
  },
  {
   "cell_type": "code",
   "execution_count": null,
   "id": "accompanied-glory",
   "metadata": {},
   "outputs": [],
   "source": []
  },
  {
   "cell_type": "code",
   "execution_count": null,
   "id": "printable-antique",
   "metadata": {},
   "outputs": [],
   "source": []
  },
  {
   "cell_type": "code",
   "execution_count": null,
   "id": "stone-plastic",
   "metadata": {},
   "outputs": [],
   "source": []
  },
  {
   "cell_type": "code",
   "execution_count": null,
   "id": "exciting-study",
   "metadata": {},
   "outputs": [],
   "source": []
  },
  {
   "cell_type": "code",
   "execution_count": null,
   "id": "functional-standard",
   "metadata": {},
   "outputs": [],
   "source": []
  },
  {
   "cell_type": "code",
   "execution_count": null,
   "id": "comic-application",
   "metadata": {},
   "outputs": [],
   "source": []
  },
  {
   "cell_type": "code",
   "execution_count": null,
   "id": "square-empty",
   "metadata": {},
   "outputs": [],
   "source": []
  },
  {
   "cell_type": "code",
   "execution_count": null,
   "id": "objective-blend",
   "metadata": {},
   "outputs": [],
   "source": []
  },
  {
   "cell_type": "code",
   "execution_count": null,
   "id": "remarkable-nomination",
   "metadata": {},
   "outputs": [],
   "source": []
  },
  {
   "cell_type": "code",
   "execution_count": null,
   "id": "particular-today",
   "metadata": {},
   "outputs": [],
   "source": []
  },
  {
   "cell_type": "code",
   "execution_count": null,
   "id": "sexual-orlando",
   "metadata": {},
   "outputs": [],
   "source": []
  },
  {
   "cell_type": "code",
   "execution_count": null,
   "id": "union-service",
   "metadata": {},
   "outputs": [],
   "source": []
  },
  {
   "cell_type": "code",
   "execution_count": null,
   "id": "danish-guest",
   "metadata": {},
   "outputs": [],
   "source": []
  },
  {
   "cell_type": "code",
   "execution_count": null,
   "id": "focal-cruise",
   "metadata": {},
   "outputs": [],
   "source": []
  },
  {
   "cell_type": "code",
   "execution_count": null,
   "id": "constant-siemens",
   "metadata": {},
   "outputs": [],
   "source": []
  },
  {
   "cell_type": "code",
   "execution_count": null,
   "id": "pregnant-tiffany",
   "metadata": {},
   "outputs": [],
   "source": []
  },
  {
   "cell_type": "code",
   "execution_count": null,
   "id": "ordered-lighter",
   "metadata": {},
   "outputs": [],
   "source": []
  },
  {
   "cell_type": "code",
   "execution_count": null,
   "id": "seasonal-license",
   "metadata": {},
   "outputs": [],
   "source": []
  },
  {
   "cell_type": "code",
   "execution_count": null,
   "id": "fitted-replacement",
   "metadata": {},
   "outputs": [],
   "source": []
  }
 ],
 "metadata": {
  "kernelspec": {
   "display_name": "Python 3",
   "language": "python",
   "name": "python3"
  }
 },
 "nbformat": 4,
 "nbformat_minor": 5
}
